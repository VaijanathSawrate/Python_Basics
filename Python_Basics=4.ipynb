{
 "cells": [
  {
   "cell_type": "markdown",
   "metadata": {},
   "source": [
    "## Conditional Statement"
   ]
  },
  {
   "cell_type": "code",
   "execution_count": 3,
   "metadata": {},
   "outputs": [
    {
     "name": "stdout",
     "output_type": "stream",
     "text": [
      "2 is a positive number\n",
      "This is always printed\n"
     ]
    }
   ],
   "source": [
    "# If\n",
    "num=2\n",
    "if num>0:\n",
    "    print(num,\"is a positive number\")\n",
    "print(\"This is always printed\")"
   ]
  },
  {
   "cell_type": "code",
   "execution_count": 4,
   "metadata": {},
   "outputs": [
    {
     "name": "stdout",
     "output_type": "stream",
     "text": [
      "Negative Number\n"
     ]
    }
   ],
   "source": [
    "# If else\n",
    "num=-5\n",
    "\n",
    "if (num>0):\n",
    "    print(\"Positive\")\n",
    "else:\n",
    "    print(\"Negative Number\")"
   ]
  },
  {
   "cell_type": "code",
   "execution_count": 5,
   "metadata": {},
   "outputs": [
    {
     "name": "stdout",
     "output_type": "stream",
     "text": [
      "1150\n"
     ]
    }
   ],
   "source": [
    "## defimne a function with conditional statement\n",
    "\n",
    "def max_num(num1,num2,num3):\n",
    "    \n",
    "    if num1>=num2 and num1>=num3:\n",
    "        \n",
    "        return num1\n",
    "    \n",
    "    elif num2>=num1 and num2>=num3:\n",
    "        \n",
    "        return num2\n",
    "    \n",
    "    else: \n",
    "        return num3\n",
    "    \n",
    "print(max_num(400,60,1150))    "
   ]
  },
  {
   "cell_type": "code",
   "execution_count": 10,
   "metadata": {},
   "outputs": [
    {
     "name": "stdout",
     "output_type": "stream",
     "text": [
      "Enter a number33\n",
      "positive number\n"
     ]
    }
   ],
   "source": [
    "# Nested if\n",
    "num=int(input(\"Enter a number\"))\n",
    "\n",
    "if num>=0:\n",
    "    if num== 0:\n",
    "        print(\"zero\")\n",
    "    else:\n",
    "        print(\"positive number\")\n",
    "else:\n",
    "    print(\"negative number\")"
   ]
  },
  {
   "cell_type": "markdown",
   "metadata": {},
   "source": [
    "## For Loop"
   ]
  },
  {
   "cell_type": "code",
   "execution_count": 11,
   "metadata": {},
   "outputs": [
    {
     "name": "stdout",
     "output_type": "stream",
     "text": [
      "current snack: a\n",
      "current snack: b\n",
      "current snack: c\n",
      "current snack: d\n",
      "Good day\n"
     ]
    }
   ],
   "source": [
    "# for each item in sequence ,last itrem reached, no- body of loop,yes,exit loop\n",
    "\n",
    "#ex-1\n",
    "snacks=['a','b','c','d']\n",
    "for x in snacks:\n",
    "    print(\"current snack:\",x)\n",
    "print(\"Good day\")    "
   ]
  },
  {
   "cell_type": "code",
   "execution_count": 16,
   "metadata": {},
   "outputs": [
    {
     "name": "stdout",
     "output_type": "stream",
     "text": [
      "number:3\n",
      "factorial= 6\n"
     ]
    }
   ],
   "source": [
    "#ex-2\n",
    "\n",
    "num=int(input(\"number:\"))\n",
    "factorial=1\n",
    "\n",
    "if num<0:\n",
    "    print(\"must be positive\")\n",
    "    num=int(input(\"number:\"))    \n",
    "elif num==0:\n",
    "    print(\"factorial=1\")\n",
    "else:\n",
    "    for i in range(1,num+1):\n",
    "        factorial=factorial*i\n",
    "    print(\"factorial=\",factorial)   "
   ]
  },
  {
   "cell_type": "code",
   "execution_count": 17,
   "metadata": {},
   "outputs": [
    {
     "name": "stdout",
     "output_type": "stream",
     "text": [
      "0 0\n",
      "0 1\n",
      "0 2\n",
      "1 0\n",
      "1 1\n",
      "1 2\n",
      "2 0\n",
      "2 1\n",
      "2 2\n"
     ]
    }
   ],
   "source": [
    "## Nested for loop\n",
    "\n",
    "for i in range(0,3):\n",
    "    for j in range(0,3):\n",
    "        print(i,j)"
   ]
  },
  {
   "cell_type": "code",
   "execution_count": 18,
   "metadata": {},
   "outputs": [
    {
     "name": "stdout",
     "output_type": "stream",
     "text": [
      "0\n",
      "1\n",
      "4\n",
      "No item left\n"
     ]
    }
   ],
   "source": [
    "## for loop with else\n",
    "\n",
    "digits=[0,1,4]\n",
    "\n",
    "for i in digits:\n",
    "    print(i)\n",
    "else:\n",
    "    print(\"No item left\")"
   ]
  },
  {
   "cell_type": "markdown",
   "metadata": {},
   "source": [
    "## While loop\n"
   ]
  },
  {
   "cell_type": "code",
   "execution_count": 19,
   "metadata": {},
   "outputs": [
    {
     "name": "stdout",
     "output_type": "stream",
     "text": [
      "The sum is 10\n"
     ]
    }
   ],
   "source": [
    "## While loop\n",
    "\n",
    "# Initialize sum and counter\n",
    "\n",
    "n=4\n",
    "sum=0\n",
    "i=1\n",
    "\n",
    "while i <=n:\n",
    "    sum=sum+i\n",
    "    i=i+1     # update counter\n",
    "    \n",
    "    # print the sum\n",
    "print(\"The sum is\",sum)    "
   ]
  },
  {
   "cell_type": "code",
   "execution_count": 21,
   "metadata": {},
   "outputs": [
    {
     "name": "stdout",
     "output_type": "stream",
     "text": [
      "Inside Loop\n",
      "Inside Loop\n",
      "Inside Loop\n",
      "inside else\n"
     ]
    }
   ],
   "source": [
    "# while loop with else\n",
    "\n",
    "counter=0\n",
    "while counter<3:\n",
    "        print(\"Inside Loop\")\n",
    "        counter=counter+1\n",
    "else:\n",
    "    print(\"inside else\")"
   ]
  },
  {
   "cell_type": "code",
   "execution_count": 22,
   "metadata": {},
   "outputs": [
    {
     "ename": "SyntaxError",
     "evalue": "invalid syntax (<ipython-input-22-9c59c6be511e>, line 3)",
     "output_type": "error",
     "traceback": [
      "\u001b[1;36m  File \u001b[1;32m\"<ipython-input-22-9c59c6be511e>\"\u001b[1;36m, line \u001b[1;32m3\u001b[0m\n\u001b[1;33m    while\u001b[0m\n\u001b[1;37m         ^\u001b[0m\n\u001b[1;31mSyntaxError\u001b[0m\u001b[1;31m:\u001b[0m invalid syntax\n"
     ]
    }
   ],
   "source": [
    "#ex-1\n",
    "count=0\n",
    "while"
   ]
  },
  {
   "cell_type": "markdown",
   "metadata": {},
   "source": [
    "## Functions"
   ]
  },
  {
   "cell_type": "code",
   "execution_count": null,
   "metadata": {},
   "outputs": [],
   "source": []
  }
 ],
 "metadata": {
  "kernelspec": {
   "display_name": "Python 3",
   "language": "python",
   "name": "python3"
  },
  "language_info": {
   "codemirror_mode": {
    "name": "ipython",
    "version": 3
   },
   "file_extension": ".py",
   "mimetype": "text/x-python",
   "name": "python",
   "nbconvert_exporter": "python",
   "pygments_lexer": "ipython3",
   "version": "3.8.5"
  }
 },
 "nbformat": 4,
 "nbformat_minor": 4
}
